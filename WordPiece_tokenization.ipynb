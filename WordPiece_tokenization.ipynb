{
  "nbformat": 4,
  "nbformat_minor": 0,
  "metadata": {
    "colab": {
      "provenance": [],
      "include_colab_link": true
    },
    "kernelspec": {
      "name": "python3",
      "display_name": "Python 3"
    },
    "language_info": {
      "name": "python"
    }
  },
  "cells": [
    {
      "cell_type": "markdown",
      "metadata": {
        "id": "view-in-github",
        "colab_type": "text"
      },
      "source": [
        "<a href=\"https://colab.research.google.com/github/Nukaraju2003/Nukaraju2003.github.io/blob/main/WordPiece_tokenization.ipynb\" target=\"_parent\"><img src=\"https://colab.research.google.com/assets/colab-badge.svg\" alt=\"Open In Colab\"/></a>"
      ]
    },
    {
      "cell_type": "code",
      "execution_count": null,
      "metadata": {
        "id": "l9qgP8oLc1om"
      },
      "outputs": [],
      "source": [
        "corpus = [\n",
        "    \"This is the Hugging Face Course.\",\n",
        "    \"This chapter is about tokenization.\",\n",
        "    \"This section shows several tokenizer algorithms.\",\n",
        "    \"Hopefully, you will be able to understand how they are trained and generate tokens.\",\n",
        "]"
      ]
    },
    {
      "cell_type": "code",
      "source": [
        "!pip install transformers\n"
      ],
      "metadata": {
        "colab": {
          "base_uri": "https://localhost:8080/"
        },
        "id": "JAQp5gimd8DT",
        "outputId": "36c135fa-d2a8-455f-eeea-8bbeb0f110b1"
      },
      "execution_count": null,
      "outputs": [
        {
          "output_type": "stream",
          "name": "stdout",
          "text": [
            "Looking in indexes: https://pypi.org/simple, https://us-python.pkg.dev/colab-wheels/public/simple/\n",
            "Requirement already satisfied: transformers in /usr/local/lib/python3.7/dist-packages (4.23.1)\n",
            "Requirement already satisfied: huggingface-hub<1.0,>=0.10.0 in /usr/local/lib/python3.7/dist-packages (from transformers) (0.10.1)\n",
            "Requirement already satisfied: numpy>=1.17 in /usr/local/lib/python3.7/dist-packages (from transformers) (1.21.6)\n",
            "Requirement already satisfied: packaging>=20.0 in /usr/local/lib/python3.7/dist-packages (from transformers) (21.3)\n",
            "Requirement already satisfied: importlib-metadata in /usr/local/lib/python3.7/dist-packages (from transformers) (4.13.0)\n",
            "Requirement already satisfied: tokenizers!=0.11.3,<0.14,>=0.11.1 in /usr/local/lib/python3.7/dist-packages (from transformers) (0.13.1)\n",
            "Requirement already satisfied: regex!=2019.12.17 in /usr/local/lib/python3.7/dist-packages (from transformers) (2022.6.2)\n",
            "Requirement already satisfied: pyyaml>=5.1 in /usr/local/lib/python3.7/dist-packages (from transformers) (6.0)\n",
            "Requirement already satisfied: filelock in /usr/local/lib/python3.7/dist-packages (from transformers) (3.8.0)\n",
            "Requirement already satisfied: tqdm>=4.27 in /usr/local/lib/python3.7/dist-packages (from transformers) (4.64.1)\n",
            "Requirement already satisfied: requests in /usr/local/lib/python3.7/dist-packages (from transformers) (2.23.0)\n",
            "Requirement already satisfied: typing-extensions>=3.7.4.3 in /usr/local/lib/python3.7/dist-packages (from huggingface-hub<1.0,>=0.10.0->transformers) (4.1.1)\n",
            "Requirement already satisfied: pyparsing!=3.0.5,>=2.0.2 in /usr/local/lib/python3.7/dist-packages (from packaging>=20.0->transformers) (3.0.9)\n",
            "Requirement already satisfied: zipp>=0.5 in /usr/local/lib/python3.7/dist-packages (from importlib-metadata->transformers) (3.9.0)\n",
            "Requirement already satisfied: certifi>=2017.4.17 in /usr/local/lib/python3.7/dist-packages (from requests->transformers) (2022.9.24)\n",
            "Requirement already satisfied: chardet<4,>=3.0.2 in /usr/local/lib/python3.7/dist-packages (from requests->transformers) (3.0.4)\n",
            "Requirement already satisfied: idna<3,>=2.5 in /usr/local/lib/python3.7/dist-packages (from requests->transformers) (2.10)\n",
            "Requirement already satisfied: urllib3!=1.25.0,!=1.25.1,<1.26,>=1.21.1 in /usr/local/lib/python3.7/dist-packages (from requests->transformers) (1.24.3)\n"
          ]
        }
      ]
    },
    {
      "cell_type": "code",
      "source": [
        "from transformers import AutoTokenizer\n",
        "\n",
        "tokenizer = AutoTokenizer.from_pretrained(\"bert-base-cased\")"
      ],
      "metadata": {
        "id": "otZ9jg19d2xj"
      },
      "execution_count": null,
      "outputs": []
    },
    {
      "cell_type": "code",
      "source": [
        "from collections import defaultdict\n",
        "\n",
        "word_freqs = defaultdict(int)\n",
        "for text in corpus:\n",
        "    words_with_offsets = tokenizer.backend_tokenizer.pre_tokenizer.pre_tokenize_str(text)\n",
        "    new_words = [word for word, offset in words_with_offsets]\n",
        "    for word in new_words:\n",
        "        word_freqs[word] += 1\n",
        "\n",
        "word_freqs"
      ],
      "metadata": {
        "colab": {
          "base_uri": "https://localhost:8080/"
        },
        "id": "XTnN4_K8eGy9",
        "outputId": "1e974ab7-25d2-4dfa-f0c1-5504d80d4727"
      },
      "execution_count": null,
      "outputs": [
        {
          "output_type": "execute_result",
          "data": {
            "text/plain": [
              "defaultdict(int,\n",
              "            {'This': 3,\n",
              "             'is': 2,\n",
              "             'the': 1,\n",
              "             'Hugging': 1,\n",
              "             'Face': 1,\n",
              "             'Course': 1,\n",
              "             '.': 4,\n",
              "             'chapter': 1,\n",
              "             'about': 1,\n",
              "             'tokenization': 1,\n",
              "             'section': 1,\n",
              "             'shows': 1,\n",
              "             'several': 1,\n",
              "             'tokenizer': 1,\n",
              "             'algorithms': 1,\n",
              "             'Hopefully': 1,\n",
              "             ',': 1,\n",
              "             'you': 1,\n",
              "             'will': 1,\n",
              "             'be': 1,\n",
              "             'able': 1,\n",
              "             'to': 1,\n",
              "             'understand': 1,\n",
              "             'how': 1,\n",
              "             'they': 1,\n",
              "             'are': 1,\n",
              "             'trained': 1,\n",
              "             'and': 1,\n",
              "             'generate': 1,\n",
              "             'tokens': 1})"
            ]
          },
          "metadata": {},
          "execution_count": 27
        }
      ]
    },
    {
      "cell_type": "code",
      "source": [
        "alphabet = []\n",
        "for word in word_freqs.keys():\n",
        "    if word[0] not in alphabet:\n",
        "        alphabet.append(word[0])\n",
        "    for letter in word[1:]:\n",
        "        if f\"##{letter}\" not in alphabet:\n",
        "            alphabet.append(f\"##{letter}\")\n",
        "\n",
        "alphabet.sort()\n",
        "alphabet\n",
        "\n",
        "print(alphabet)"
      ],
      "metadata": {
        "colab": {
          "base_uri": "https://localhost:8080/"
        },
        "id": "ehG4UpB-eRIV",
        "outputId": "daf69429-d5cc-4690-b745-51f88625171a"
      },
      "execution_count": null,
      "outputs": [
        {
          "output_type": "stream",
          "name": "stdout",
          "text": [
            "['##a', '##b', '##c', '##d', '##e', '##f', '##g', '##h', '##i', '##k', '##l', '##m', '##n', '##o', '##p', '##r', '##s', '##t', '##u', '##v', '##w', '##y', '##z', ',', '.', 'C', 'F', 'H', 'T', 'a', 'b', 'c', 'g', 'h', 'i', 's', 't', 'u', 'w', 'y']\n"
          ]
        }
      ]
    },
    {
      "cell_type": "code",
      "source": [
        "vocab = [\"[PAD]\", \"[UNK]\", \"[CLS]\", \"[SEP]\", \"[MASK]\"] + alphabet.copy()"
      ],
      "metadata": {
        "id": "aek6zQyBeeAY"
      },
      "execution_count": null,
      "outputs": []
    },
    {
      "cell_type": "code",
      "source": [
        "splits = {\n",
        "    word: [c if i == 0 else f\"##{c}\" for i, c in enumerate(word)]\n",
        "    for word in word_freqs.keys()\n",
        "}"
      ],
      "metadata": {
        "id": "3mFuOj9MeoaJ"
      },
      "execution_count": null,
      "outputs": []
    },
    {
      "cell_type": "code",
      "source": [
        "splits"
      ],
      "metadata": {
        "colab": {
          "base_uri": "https://localhost:8080/"
        },
        "id": "f5GnftkGgXj-",
        "outputId": "67641ccb-26af-4952-d0c1-d515a763cdc3"
      },
      "execution_count": null,
      "outputs": [
        {
          "output_type": "execute_result",
          "data": {
            "text/plain": [
              "{'This': ['T', '##h', '##i', '##s'],\n",
              " 'is': ['i', '##s'],\n",
              " 'the': ['t', '##h', '##e'],\n",
              " 'Hugging': ['H', '##u', '##g', '##g', '##i', '##n', '##g'],\n",
              " 'Face': ['F', '##a', '##c', '##e'],\n",
              " 'Course': ['C', '##o', '##u', '##r', '##s', '##e'],\n",
              " '.': ['.'],\n",
              " 'chapter': ['c', '##h', '##a', '##p', '##t', '##e', '##r'],\n",
              " 'about': ['a', '##b', '##o', '##u', '##t'],\n",
              " 'tokenization': ['t',\n",
              "  '##o',\n",
              "  '##k',\n",
              "  '##e',\n",
              "  '##n',\n",
              "  '##i',\n",
              "  '##z',\n",
              "  '##a',\n",
              "  '##t',\n",
              "  '##i',\n",
              "  '##o',\n",
              "  '##n'],\n",
              " 'section': ['s', '##e', '##c', '##t', '##i', '##o', '##n'],\n",
              " 'shows': ['s', '##h', '##o', '##w', '##s'],\n",
              " 'several': ['s', '##e', '##v', '##e', '##r', '##a', '##l'],\n",
              " 'tokenizer': ['t', '##o', '##k', '##e', '##n', '##i', '##z', '##e', '##r'],\n",
              " 'algorithms': ['a',\n",
              "  '##l',\n",
              "  '##g',\n",
              "  '##o',\n",
              "  '##r',\n",
              "  '##i',\n",
              "  '##t',\n",
              "  '##h',\n",
              "  '##m',\n",
              "  '##s'],\n",
              " 'Hopefully': ['H', '##o', '##p', '##e', '##f', '##u', '##l', '##l', '##y'],\n",
              " ',': [','],\n",
              " 'you': ['y', '##o', '##u'],\n",
              " 'will': ['w', '##i', '##l', '##l'],\n",
              " 'be': ['b', '##e'],\n",
              " 'able': ['a', '##b', '##l', '##e'],\n",
              " 'to': ['t', '##o'],\n",
              " 'understand': ['u',\n",
              "  '##n',\n",
              "  '##d',\n",
              "  '##e',\n",
              "  '##r',\n",
              "  '##s',\n",
              "  '##t',\n",
              "  '##a',\n",
              "  '##n',\n",
              "  '##d'],\n",
              " 'how': ['h', '##o', '##w'],\n",
              " 'they': ['t', '##h', '##e', '##y'],\n",
              " 'are': ['a', '##r', '##e'],\n",
              " 'trained': ['t', '##r', '##a', '##i', '##n', '##e', '##d'],\n",
              " 'and': ['a', '##n', '##d'],\n",
              " 'generate': ['g', '##e', '##n', '##e', '##r', '##a', '##t', '##e'],\n",
              " 'tokens': ['t', '##o', '##k', '##e', '##n', '##s']}"
            ]
          },
          "metadata": {},
          "execution_count": 31
        }
      ]
    },
    {
      "cell_type": "code",
      "source": [
        "def compute_pair_scores(splits):\n",
        "    letter_freqs = defaultdict(int)\n",
        "    pair_freqs = defaultdict(int)\n",
        "    for word, freq in word_freqs.items():\n",
        "        split = splits[word]\n",
        "        if len(split) == 1:\n",
        "            letter_freqs[split[0]] += freq\n",
        "            continue\n",
        "        for i in range(len(split) - 1):\n",
        "            pair = (split[i], split[i + 1])\n",
        "            letter_freqs[split[i]] += freq\n",
        "            pair_freqs[pair] += freq\n",
        "        letter_freqs[split[-1]] += freq\n",
        "\n",
        "    scores = {\n",
        "        pair: freq / (letter_freqs[pair[0]] * letter_freqs[pair[1]])\n",
        "        for pair, freq in pair_freqs.items()\n",
        "    }\n",
        "    return scores"
      ],
      "metadata": {
        "id": "XL_XgL7NerbU"
      },
      "execution_count": null,
      "outputs": []
    },
    {
      "cell_type": "code",
      "source": [
        "compute_pair_scores(splits)"
      ],
      "metadata": {
        "colab": {
          "base_uri": "https://localhost:8080/"
        },
        "id": "MrJpvsXHe7Ni",
        "outputId": "69b11b5f-c646-481a-a438-cca3010a46ec"
      },
      "execution_count": null,
      "outputs": [
        {
          "output_type": "execute_result",
          "data": {
            "text/plain": [
              "{('T', '##h'): 0.125,\n",
              " ('##h', '##i'): 0.03409090909090909,\n",
              " ('##i', '##s'): 0.02727272727272727,\n",
              " ('i', '##s'): 0.1,\n",
              " ('t', '##h'): 0.03571428571428571,\n",
              " ('##h', '##e'): 0.011904761904761904,\n",
              " ('H', '##u'): 0.1,\n",
              " ('##u', '##g'): 0.05,\n",
              " ('##g', '##g'): 0.0625,\n",
              " ('##g', '##i'): 0.022727272727272728,\n",
              " ('##i', '##n'): 0.01652892561983471,\n",
              " ('##n', '##g'): 0.022727272727272728,\n",
              " ('F', '##a'): 0.14285714285714285,\n",
              " ('##a', '##c'): 0.07142857142857142,\n",
              " ('##c', '##e'): 0.023809523809523808,\n",
              " ('C', '##o'): 0.07692307692307693,\n",
              " ('##o', '##u'): 0.046153846153846156,\n",
              " ('##u', '##r'): 0.022222222222222223,\n",
              " ('##r', '##s'): 0.022222222222222223,\n",
              " ('##s', '##e'): 0.004761904761904762,\n",
              " ('c', '##h'): 0.125,\n",
              " ('##h', '##a'): 0.017857142857142856,\n",
              " ('##a', '##p'): 0.07142857142857142,\n",
              " ('##p', '##t'): 0.07142857142857142,\n",
              " ('##t', '##e'): 0.013605442176870748,\n",
              " ('##e', '##r'): 0.026455026455026454,\n",
              " ('a', '##b'): 0.2,\n",
              " ('##b', '##o'): 0.038461538461538464,\n",
              " ('##u', '##t'): 0.02857142857142857,\n",
              " ('t', '##o'): 0.04395604395604396,\n",
              " ('##o', '##k'): 0.07692307692307693,\n",
              " ('##k', '##e'): 0.047619047619047616,\n",
              " ('##e', '##n'): 0.017316017316017316,\n",
              " ('##n', '##i'): 0.01652892561983471,\n",
              " ('##i', '##z'): 0.09090909090909091,\n",
              " ('##z', '##a'): 0.07142857142857142,\n",
              " ('##a', '##t'): 0.04081632653061224,\n",
              " ('##t', '##i'): 0.025974025974025976,\n",
              " ('##i', '##o'): 0.013986013986013986,\n",
              " ('##o', '##n'): 0.013986013986013986,\n",
              " ('s', '##e'): 0.031746031746031744,\n",
              " ('##e', '##c'): 0.023809523809523808,\n",
              " ('##c', '##t'): 0.07142857142857142,\n",
              " ('s', '##h'): 0.041666666666666664,\n",
              " ('##h', '##o'): 0.009615384615384616,\n",
              " ('##o', '##w'): 0.07692307692307693,\n",
              " ('##w', '##s'): 0.05,\n",
              " ('##e', '##v'): 0.047619047619047616,\n",
              " ('##v', '##e'): 0.047619047619047616,\n",
              " ('##r', '##a'): 0.047619047619047616,\n",
              " ('##a', '##l'): 0.02040816326530612,\n",
              " ('##z', '##e'): 0.023809523809523808,\n",
              " ('a', '##l'): 0.02857142857142857,\n",
              " ('##l', '##g'): 0.03571428571428571,\n",
              " ('##g', '##o'): 0.019230769230769232,\n",
              " ('##o', '##r'): 0.008547008547008548,\n",
              " ('##r', '##i'): 0.010101010101010102,\n",
              " ('##i', '##t'): 0.012987012987012988,\n",
              " ('##t', '##h'): 0.017857142857142856,\n",
              " ('##h', '##m'): 0.125,\n",
              " ('##m', '##s'): 0.1,\n",
              " ('H', '##o'): 0.038461538461538464,\n",
              " ('##o', '##p'): 0.038461538461538464,\n",
              " ('##p', '##e'): 0.023809523809523808,\n",
              " ('##e', '##f'): 0.047619047619047616,\n",
              " ('##f', '##u'): 0.2,\n",
              " ('##u', '##l'): 0.02857142857142857,\n",
              " ('##l', '##l'): 0.04081632653061224,\n",
              " ('##l', '##y'): 0.07142857142857142,\n",
              " ('y', '##o'): 0.07692307692307693,\n",
              " ('w', '##i'): 0.09090909090909091,\n",
              " ('##i', '##l'): 0.012987012987012988,\n",
              " ('b', '##e'): 0.047619047619047616,\n",
              " ('##b', '##l'): 0.07142857142857142,\n",
              " ('##l', '##e'): 0.006802721088435374,\n",
              " ('u', '##n'): 0.09090909090909091,\n",
              " ('##n', '##d'): 0.06818181818181818,\n",
              " ('##d', '##e'): 0.011904761904761904,\n",
              " ('##s', '##t'): 0.014285714285714285,\n",
              " ('##t', '##a'): 0.02040816326530612,\n",
              " ('##a', '##n'): 0.012987012987012988,\n",
              " ('h', '##o'): 0.07692307692307693,\n",
              " ('##e', '##y'): 0.023809523809523808,\n",
              " ('a', '##r'): 0.022222222222222223,\n",
              " ('##r', '##e'): 0.005291005291005291,\n",
              " ('t', '##r'): 0.015873015873015872,\n",
              " ('##a', '##i'): 0.012987012987012988,\n",
              " ('##n', '##e'): 0.008658008658008658,\n",
              " ('##e', '##d'): 0.011904761904761904,\n",
              " ('a', '##n'): 0.01818181818181818,\n",
              " ('g', '##e'): 0.047619047619047616,\n",
              " ('##n', '##s'): 0.00909090909090909}"
            ]
          },
          "metadata": {},
          "execution_count": 33
        }
      ]
    },
    {
      "cell_type": "code",
      "source": [
        "def merge_pair(a, b, splits):\n",
        "    for word in word_freqs:\n",
        "        split = splits[word]\n",
        "        if len(split) == 1:\n",
        "            continue\n",
        "        i = 0\n",
        "        while i < len(split) - 1:\n",
        "            if split[i] == a and split[i + 1] == b:\n",
        "                merge = a + b[2:] if b.startswith(\"##\") else a + b\n",
        "                split = split[:i] + [merge] + split[i + 2 :]\n",
        "            else:\n",
        "                i += 1\n",
        "        splits[word] = split\n",
        "    return splits"
      ],
      "metadata": {
        "id": "nfFt71qIg9_M"
      },
      "execution_count": null,
      "outputs": []
    },
    {
      "cell_type": "code",
      "source": [
        "splits = merge_pair(\"a\", \"##b\", splits)\n",
        "splits[\"about\"]"
      ],
      "metadata": {
        "colab": {
          "base_uri": "https://localhost:8080/"
        },
        "id": "6WvyBTSDhCVs",
        "outputId": "540d7bf9-4a31-4641-f6ef-967bcbb53dc6"
      },
      "execution_count": null,
      "outputs": [
        {
          "output_type": "execute_result",
          "data": {
            "text/plain": [
              "['ab', '##o', '##u', '##t']"
            ]
          },
          "metadata": {},
          "execution_count": 41
        }
      ]
    },
    {
      "cell_type": "code",
      "source": [
        "vocab_size = 70\n",
        "while len(vocab) < vocab_size:\n",
        "    scores = compute_pair_scores(splits)\n",
        "    best_pair, max_score = \"\", None\n",
        "    for pair, score in scores.items():\n",
        "        if max_score is None or max_score < score:\n",
        "            best_pair = pair\n",
        "            max_score = score\n",
        "    splits = merge_pair(*best_pair, splits)\n",
        "    new_token = (\n",
        "        best_pair[0] + best_pair[1][2:]\n",
        "        if best_pair[1].startswith(\"##\")\n",
        "        else best_pair[0] + best_pair[1]\n",
        "    )\n",
        "    vocab.append(new_token)"
      ],
      "metadata": {
        "id": "kCgYrz79hR5h"
      },
      "execution_count": null,
      "outputs": []
    },
    {
      "cell_type": "code",
      "source": [
        "print(vocab)"
      ],
      "metadata": {
        "colab": {
          "base_uri": "https://localhost:8080/"
        },
        "id": "38-ehU60h61-",
        "outputId": "6f02f798-d14b-4c87-cd41-1a0374444541"
      },
      "execution_count": null,
      "outputs": [
        {
          "output_type": "stream",
          "name": "stdout",
          "text": [
            "['[PAD]', '[UNK]', '[CLS]', '[SEP]', '[MASK]', '##a', '##b', '##c', '##d', '##e', '##f', '##g', '##h', '##i', '##k', '##l', '##m', '##n', '##o', '##p', '##r', '##s', '##t', '##u', '##v', '##w', '##y', '##z', ',', '.', 'C', 'F', 'H', 'T', 'a', 'b', 'c', 'g', 'h', 'i', 's', 't', 'u', 'w', 'y', 'ab', '##fu', 'Fa', 'Fac', '##ct', '##ful', '##full', '##fully', 'Th', 'ch', '##hm', 'cha', 'chap', 'chapt', '##thm', 'Hu', 'Hug', 'Hugg', 'sh', 'th', 'is', '##thms', '##za', '##zat', '##ut']\n"
          ]
        }
      ]
    },
    {
      "cell_type": "code",
      "source": [
        "def encode_word(word):\n",
        "    tokens = []\n",
        "    while len(word) > 0:\n",
        "        i = len(word)\n",
        "        while i > 0 and word[:i] not in vocab:\n",
        "            i -= 1\n",
        "        if i == 0:\n",
        "            return [\"[UNK]\"]\n",
        "        tokens.append(word[:i])\n",
        "        word = word[i:]\n",
        "        if len(word) > 0:\n",
        "            word = f\"##{word}\"\n",
        "    return tokens"
      ],
      "metadata": {
        "id": "rqDU6iEBh9th"
      },
      "execution_count": null,
      "outputs": []
    },
    {
      "cell_type": "code",
      "source": [
        "print(encode_word(\"Hugging\"))\n",
        "print(encode_word(\"HOgging\"))"
      ],
      "metadata": {
        "colab": {
          "base_uri": "https://localhost:8080/"
        },
        "id": "s3Q27KXeujuy",
        "outputId": "22926f07-7476-43c3-af66-28081ded1392"
      },
      "execution_count": null,
      "outputs": [
        {
          "output_type": "stream",
          "name": "stdout",
          "text": [
            "['Hugg', '##i', '##n', '##g']\n",
            "['[UNK]']\n"
          ]
        }
      ]
    },
    {
      "cell_type": "code",
      "source": [
        "def tokenize(text):\n",
        "    pre_tokenize_result = tokenizer._tokenizer.pre_tokenizer.pre_tokenize_str(text)\n",
        "    pre_tokenized_text = [word for word, offset in pre_tokenize_result]\n",
        "    encoded_words = [encode_word(word) for word in pre_tokenized_text]\n",
        "    return sum(encoded_words, [])"
      ],
      "metadata": {
        "id": "eSFCYEdcunV0"
      },
      "execution_count": null,
      "outputs": []
    },
    {
      "cell_type": "code",
      "source": [
        "tokenize(\"This is the Hugging Face course!\")"
      ],
      "metadata": {
        "colab": {
          "base_uri": "https://localhost:8080/"
        },
        "id": "yb73XLFRuqQ1",
        "outputId": "6e7b0fc8-1946-4957-a2b5-b0605463fc72"
      },
      "execution_count": null,
      "outputs": [
        {
          "output_type": "execute_result",
          "data": {
            "text/plain": [
              "['Th',\n",
              " '##i',\n",
              " '##s',\n",
              " 'is',\n",
              " 'th',\n",
              " '##e',\n",
              " 'Hugg',\n",
              " '##i',\n",
              " '##n',\n",
              " '##g',\n",
              " 'Fac',\n",
              " '##e',\n",
              " 'c',\n",
              " '##o',\n",
              " '##u',\n",
              " '##r',\n",
              " '##s',\n",
              " '##e',\n",
              " '[UNK]']"
            ]
          },
          "metadata": {},
          "execution_count": 47
        }
      ]
    },
    {
      "cell_type": "code",
      "source": [],
      "metadata": {
        "id": "kesa9nJ4usov"
      },
      "execution_count": null,
      "outputs": []
    }
  ]
}