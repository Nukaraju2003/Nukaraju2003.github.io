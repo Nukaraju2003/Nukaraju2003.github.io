{
  "nbformat": 4,
  "nbformat_minor": 0,
  "metadata": {
    "colab": {
      "provenance": [],
      "authorship_tag": "ABX9TyP1fm6MzCknIODJruCBaEpI",
      "include_colab_link": true
    },
    "kernelspec": {
      "name": "python3",
      "display_name": "Python 3"
    },
    "language_info": {
      "name": "python"
    }
  },
  "cells": [
    {
      "cell_type": "markdown",
      "metadata": {
        "id": "view-in-github",
        "colab_type": "text"
      },
      "source": [
        "<a href=\"https://colab.research.google.com/github/Nukaraju2003/Nukaraju2003.github.io/blob/main/Numpypractice.ipynb\" target=\"_parent\"><img src=\"https://colab.research.google.com/assets/colab-badge.svg\" alt=\"Open In Colab\"/></a>"
      ]
    },
    {
      "cell_type": "code",
      "execution_count": null,
      "metadata": {
        "colab": {
          "base_uri": "https://localhost:8080/"
        },
        "id": "0Ll8ehJKxN93",
        "outputId": "89312319-b816-4b09-a79d-47f88908bb50"
      },
      "outputs": [
        {
          "output_type": "stream",
          "name": "stdout",
          "text": [
            "the sum of 1 row \n",
            " 10\n",
            "the sum of 2 row \n",
            " 26\n",
            "the sum of 3 row \n",
            " 42\n",
            "the sum of 1 column\n",
            " 15\n",
            "the sum of 2 column\n",
            " 18\n",
            "the sum of 3 column\n",
            " 21\n"
          ]
        }
      ],
      "source": [
        "import numpy as np\n",
        "arr = np.array([[1,2,3,4],[5,6,7,8],[9,10,11,12]])\n",
        "row1 = arr[0]\n",
        "row2 = arr[1]\n",
        "row3 = arr[2]\n",
        "col1 = arr[: , 0]\n",
        "col2 = arr[: , 1]\n",
        "col3 = arr[: , 2]\n",
        "addrow1 = np.sum(row1)\n",
        "addrow2 = np.sum(row2)\n",
        "addrow3 = np.sum(row3)\n",
        "addcol1 = np.sum(col1)\n",
        "addcol2 = np.sum(col2)\n",
        "addcol3 = np.sum(col3)\n",
        "print('the sum of 1 row \\n',addrow1)\n",
        "print('the sum of 2 row \\n',addrow2)\n",
        "print('the sum of 3 row \\n',addrow3)\n",
        "print('the sum of 1 column\\n',addcol1)\n",
        "print('the sum of 2 column\\n',addcol2)\n",
        "print('the sum of 3 column\\n',addcol3)"
      ]
    },
    {
      "cell_type": "markdown",
      "source": [
        "# New Section"
      ],
      "metadata": {
        "id": "6dTLEB2ey_ep"
      }
    },
    {
      "cell_type": "code",
      "source": [
        "import pandas as pd\n",
        "d = pd.read_csv(\"/content/covid_19_data.csv.zip\")\n",
        "df = pd.DataFrame(d)\n",
        "print(df)"
      ],
      "metadata": {
        "colab": {
          "base_uri": "https://localhost:8080/"
        },
        "id": "C7Nvf13Tzq2e",
        "outputId": "e2b56327-7c33-4d5f-9c9c-3cc6bb58888e"
      },
      "execution_count": null,
      "outputs": [
        {
          "output_type": "stream",
          "name": "stdout",
          "text": [
            "           SNo ObservationDate     Province/State  Country/Region  \\\n",
            "0            1      01/22/2020              Anhui  Mainland China   \n",
            "1            2      01/22/2020            Beijing  Mainland China   \n",
            "2            3      01/22/2020          Chongqing  Mainland China   \n",
            "3            4      01/22/2020             Fujian  Mainland China   \n",
            "4            5      01/22/2020              Gansu  Mainland China   \n",
            "...        ...             ...                ...             ...   \n",
            "306424  306425      05/29/2021  Zaporizhia Oblast         Ukraine   \n",
            "306425  306426      05/29/2021            Zeeland     Netherlands   \n",
            "306426  306427      05/29/2021           Zhejiang  Mainland China   \n",
            "306427  306428      05/29/2021    Zhytomyr Oblast         Ukraine   \n",
            "306428  306429      05/29/2021       Zuid-Holland     Netherlands   \n",
            "\n",
            "                Last Update  Confirmed  Deaths  Recovered  \n",
            "0           1/22/2020 17:00        1.0     0.0        0.0  \n",
            "1           1/22/2020 17:00       14.0     0.0        0.0  \n",
            "2           1/22/2020 17:00        6.0     0.0        0.0  \n",
            "3           1/22/2020 17:00        1.0     0.0        0.0  \n",
            "4           1/22/2020 17:00        0.0     0.0        0.0  \n",
            "...                     ...        ...     ...        ...  \n",
            "306424  2021-05-30 04:20:55   102641.0  2335.0    95289.0  \n",
            "306425  2021-05-30 04:20:55    29147.0   245.0        0.0  \n",
            "306426  2021-05-30 04:20:55     1364.0     1.0     1324.0  \n",
            "306427  2021-05-30 04:20:55    87550.0  1738.0    83790.0  \n",
            "306428  2021-05-30 04:20:55   391559.0  4252.0        0.0  \n",
            "\n",
            "[306429 rows x 8 columns]\n"
          ]
        }
      ]
    },
    {
      "cell_type": "code",
      "source": [
        "df.head\n"
      ],
      "metadata": {
        "colab": {
          "base_uri": "https://localhost:8080/"
        },
        "id": "qtlMXAGH5wQu",
        "outputId": "ac8b8335-00f0-48a9-d77a-ddb79fceab4f"
      },
      "execution_count": null,
      "outputs": [
        {
          "output_type": "execute_result",
          "data": {
            "text/plain": [
              "<bound method NDFrame.head of            SNo ObservationDate     Province/State  Country/Region  \\\n",
              "0            1      01/22/2020              Anhui  Mainland China   \n",
              "1            2      01/22/2020            Beijing  Mainland China   \n",
              "2            3      01/22/2020          Chongqing  Mainland China   \n",
              "3            4      01/22/2020             Fujian  Mainland China   \n",
              "4            5      01/22/2020              Gansu  Mainland China   \n",
              "...        ...             ...                ...             ...   \n",
              "306424  306425      05/29/2021  Zaporizhia Oblast         Ukraine   \n",
              "306425  306426      05/29/2021            Zeeland     Netherlands   \n",
              "306426  306427      05/29/2021           Zhejiang  Mainland China   \n",
              "306427  306428      05/29/2021    Zhytomyr Oblast         Ukraine   \n",
              "306428  306429      05/29/2021       Zuid-Holland     Netherlands   \n",
              "\n",
              "                Last Update  Confirmed  Deaths  Recovered  \n",
              "0           1/22/2020 17:00        1.0     0.0        0.0  \n",
              "1           1/22/2020 17:00       14.0     0.0        0.0  \n",
              "2           1/22/2020 17:00        6.0     0.0        0.0  \n",
              "3           1/22/2020 17:00        1.0     0.0        0.0  \n",
              "4           1/22/2020 17:00        0.0     0.0        0.0  \n",
              "...                     ...        ...     ...        ...  \n",
              "306424  2021-05-30 04:20:55   102641.0  2335.0    95289.0  \n",
              "306425  2021-05-30 04:20:55    29147.0   245.0        0.0  \n",
              "306426  2021-05-30 04:20:55     1364.0     1.0     1324.0  \n",
              "306427  2021-05-30 04:20:55    87550.0  1738.0    83790.0  \n",
              "306428  2021-05-30 04:20:55   391559.0  4252.0        0.0  \n",
              "\n",
              "[306429 rows x 8 columns]>"
            ]
          },
          "metadata": {},
          "execution_count": 3
        }
      ]
    },
    {
      "cell_type": "code",
      "source": [
        "df.tail\n"
      ],
      "metadata": {
        "colab": {
          "base_uri": "https://localhost:8080/"
        },
        "id": "5Hir4XJs5wNj",
        "outputId": "f4b30342-301a-4141-b9bf-5be32605205f"
      },
      "execution_count": null,
      "outputs": [
        {
          "output_type": "execute_result",
          "data": {
            "text/plain": [
              "<bound method NDFrame.tail of            SNo ObservationDate     Province/State  Country/Region  \\\n",
              "0            1      01/22/2020              Anhui  Mainland China   \n",
              "1            2      01/22/2020            Beijing  Mainland China   \n",
              "2            3      01/22/2020          Chongqing  Mainland China   \n",
              "3            4      01/22/2020             Fujian  Mainland China   \n",
              "4            5      01/22/2020              Gansu  Mainland China   \n",
              "...        ...             ...                ...             ...   \n",
              "306424  306425      05/29/2021  Zaporizhia Oblast         Ukraine   \n",
              "306425  306426      05/29/2021            Zeeland     Netherlands   \n",
              "306426  306427      05/29/2021           Zhejiang  Mainland China   \n",
              "306427  306428      05/29/2021    Zhytomyr Oblast         Ukraine   \n",
              "306428  306429      05/29/2021       Zuid-Holland     Netherlands   \n",
              "\n",
              "                Last Update  Confirmed  Deaths  Recovered  \n",
              "0           1/22/2020 17:00        1.0     0.0        0.0  \n",
              "1           1/22/2020 17:00       14.0     0.0        0.0  \n",
              "2           1/22/2020 17:00        6.0     0.0        0.0  \n",
              "3           1/22/2020 17:00        1.0     0.0        0.0  \n",
              "4           1/22/2020 17:00        0.0     0.0        0.0  \n",
              "...                     ...        ...     ...        ...  \n",
              "306424  2021-05-30 04:20:55   102641.0  2335.0    95289.0  \n",
              "306425  2021-05-30 04:20:55    29147.0   245.0        0.0  \n",
              "306426  2021-05-30 04:20:55     1364.0     1.0     1324.0  \n",
              "306427  2021-05-30 04:20:55    87550.0  1738.0    83790.0  \n",
              "306428  2021-05-30 04:20:55   391559.0  4252.0        0.0  \n",
              "\n",
              "[306429 rows x 8 columns]>"
            ]
          },
          "metadata": {},
          "execution_count": 4
        }
      ]
    }
  ]
}